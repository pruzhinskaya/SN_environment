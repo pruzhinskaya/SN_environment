{
 "cells": [
  {
   "cell_type": "code",
   "execution_count": 102,
   "metadata": {},
   "outputs": [],
   "source": [
    "%matplotlib notebook\n",
    "import matplotlib.pyplot as plt\n",
    "import numpy as np \n",
    "from scipy.integrate import quad\n",
    "from math import *\n",
    "from astropy.io import fits\n",
    "import glob\n",
    "import pylab \n",
    "from numpy.linalg import inv\n",
    "from iminuit import Minuit, describe, Struct\n",
    "import pandas\n",
    "#from scipy.optimize import curve_fit\n",
    "#from scipy.optimize import fmin"
   ]
  },
  {
   "cell_type": "code",
   "execution_count": 103,
   "metadata": {},
   "outputs": [],
   "source": [
    "\n",
    "# Read Pantheon data\n",
    "filename = 'data/Ancillary_G10.FITRES'\n",
    "filename2 = 'data/Ancillary_C11.FITRES'\n",
    "dcol = ' '\n",
    "# ucol = [0, 1, 2, 3, 4, 5, 6, 7, 8, 9, 10, 11, 12]\n",
    "# scol = ['name', 'zcmb', 'zhel', 'dz', 'mb', 'dmb', 'x1', 'dx1', 'color', 'dcolor', 'Mstell', 'dMstell', 'set']\n",
    "# SNdata = pandas.read_csv(filename, comment='#', header=None, delimiter=dcol, usecols=ucol) \n",
    "SNdata_G10 = pandas.read_csv(filename, comment='#', skiprows=6, header=0, delimiter=r\"\\s+\")\n",
    "SNdata_C11 = pandas.read_csv(filename2, comment='#', skiprows=6, header=0, delimiter=r\"\\s+\")\n",
    "\n",
    "\n",
    "# SNdata.columns = scol\n",
    "zcmb = SNdata_G10['zCMB']\n",
    "zhel = SNdata_G10['zHD']\n",
    "mb = SNdata_G10['mB']\n",
    "dmb = SNdata_G10['mBERR']\n",
    "x1 = SNdata_G10['x1']\n",
    "dx1 = SNdata_G10['x1ERR']\n",
    "color = SNdata_G10['c']\n",
    "dcolor = SNdata_G10['cERR']\n",
    "Mstell = SNdata_G10['HOST_LOGMASS']\n",
    "dataset = SNdata_G10['IDSAMPLE']\n",
    "    "
   ]
  },
  {
   "cell_type": "code",
   "execution_count": 104,
   "metadata": {
    "scrolled": false
   },
   "outputs": [
    {
     "data": {
      "text/plain": [
       "0       0.0030\n",
       "1      -0.0100\n",
       "2      -0.0130\n",
       "3      -0.0260\n",
       "4      -0.0330\n",
       "5      -0.0040\n",
       "6       0.0060\n",
       "7      -0.0075\n",
       "8       0.0015\n",
       "9      -0.1075\n",
       "10     -0.0325\n",
       "11      0.0090\n",
       "12     -0.0190\n",
       "13     -0.0030\n",
       "14      0.0010\n",
       "15     -0.0425\n",
       "16     -0.0065\n",
       "17      0.0085\n",
       "18     -0.0105\n",
       "19     -0.0385\n",
       "20     -0.0060\n",
       "21     -0.0910\n",
       "22     -0.0235\n",
       "23     -0.0300\n",
       "24     -0.0265\n",
       "25     -0.0210\n",
       "26     -0.0400\n",
       "27     -0.0025\n",
       "28      0.0025\n",
       "29      0.0010\n",
       "         ...  \n",
       "1018   -0.0505\n",
       "1019    0.0055\n",
       "1020   -0.0115\n",
       "1021    0.0210\n",
       "1022   -0.2040\n",
       "1023   -0.0055\n",
       "1024    0.1190\n",
       "1025   -0.0565\n",
       "1026   -0.0300\n",
       "1027   -0.0530\n",
       "1028   -0.0635\n",
       "1029   -0.0630\n",
       "1030   -0.0080\n",
       "1031    0.0105\n",
       "1032   -0.0265\n",
       "1033   -0.0010\n",
       "1034   -0.0145\n",
       "1035   -0.0570\n",
       "1036   -0.0025\n",
       "1037   -0.0295\n",
       "1038    0.0310\n",
       "1039    0.0415\n",
       "1040   -0.0935\n",
       "1041   -0.0275\n",
       "1042    0.0865\n",
       "1043   -0.0250\n",
       "1044   -0.0160\n",
       "1045   -0.0065\n",
       "1046   -0.0345\n",
       "1047    0.0095\n",
       "Name: biasCor_mB, Length: 1048, dtype: float64"
      ]
     },
     "execution_count": 104,
     "metadata": {},
     "output_type": "execute_result"
    }
   ],
   "source": [
    "(SNdata_C11['biasCor_mB'] + SNdata_G10['biasCor_mB'])/2"
   ]
  },
  {
   "cell_type": "code",
   "execution_count": 107,
   "metadata": {},
   "outputs": [
    {
     "data": {
      "text/plain": [
       "0        36.043209\n",
       "1        36.097286\n",
       "2        36.567749\n",
       "3        36.058796\n",
       "4        36.731934\n",
       "5       214.493576\n",
       "6       214.982498\n",
       "7       333.690948\n",
       "8       334.041351\n",
       "9       333.640625\n",
       "10      334.174408\n",
       "11      333.542664\n",
       "12      334.060211\n",
       "13      334.167450\n",
       "14       36.576935\n",
       "15       36.410923\n",
       "16       36.177063\n",
       "17       36.200211\n",
       "18       36.552319\n",
       "19       36.039650\n",
       "20       36.677898\n",
       "21       36.915634\n",
       "22       36.301994\n",
       "23       36.637814\n",
       "24       36.295959\n",
       "25       36.203316\n",
       "26      150.468643\n",
       "27      150.483704\n",
       "28      150.092026\n",
       "29      150.413605\n",
       "           ...    \n",
       "1018    149.072906\n",
       "1019    130.236938\n",
       "1020    185.337662\n",
       "1021    215.233185\n",
       "1022    215.136078\n",
       "1023     53.086899\n",
       "1024    150.061356\n",
       "1025     53.158375\n",
       "1026    322.349548\n",
       "1027    189.319885\n",
       "1028    189.156586\n",
       "1029     34.443066\n",
       "1030      0.000000\n",
       "1031      0.000000\n",
       "1032      0.000000\n",
       "1033      0.000000\n",
       "1034      0.000000\n",
       "1035      0.000000\n",
       "1036      0.000000\n",
       "1037      0.000000\n",
       "1038      0.000000\n",
       "1039      0.000000\n",
       "1040      0.000000\n",
       "1041      0.000000\n",
       "1042      0.000000\n",
       "1043      0.000000\n",
       "1044      0.000000\n",
       "1045      0.000000\n",
       "1046      0.000000\n",
       "1047      0.000000\n",
       "Name: RA, Length: 1048, dtype: float64"
      ]
     },
     "execution_count": 107,
     "metadata": {},
     "output_type": "execute_result"
    }
   ],
   "source": [
    "SNdata_G10['RA']"
   ]
  },
  {
   "cell_type": "code",
   "execution_count": null,
   "metadata": {},
   "outputs": [],
   "source": []
  }
 ],
 "metadata": {
  "kernelspec": {
   "display_name": "Python 3",
   "language": "python",
   "name": "python3"
  },
  "language_info": {
   "codemirror_mode": {
    "name": "ipython",
    "version": 3
   },
   "file_extension": ".py",
   "mimetype": "text/x-python",
   "name": "python",
   "nbconvert_exporter": "python",
   "pygments_lexer": "ipython3",
   "version": "3.7.2"
  }
 },
 "nbformat": 4,
 "nbformat_minor": 2
}
